{
 "cells": [
  {
   "cell_type": "markdown",
   "metadata": {},
   "source": [
    "<div style=\"width:100%; text-align:center; margin: 40px 0;\">\n",
    "    <h1 style=\"color: #003366; font-size: 40px; font-weight:bold; text-shadow: 2px 2px 5px grey;\">\n",
    "        Énergie Électrique en France\n",
    "    </h1>\n",
    "    <hr style=\"width: 50%; height: 3px; background-color: #003366; border: none;\">\n",
    "    <p style=\"font-style:italic; font-size:18px; color: #555;\">\n",
    "        Une exploration approfondie de l'énergie électrique en France\n",
    "    </p>\n",
    "</div>\n"
   ]
  },
  {
   "cell_type": "markdown",
   "metadata": {},
   "source": [
    "<h2 style=\"padding:16px; color:#FFF; background:#07D\">Imports</h2>"
   ]
  },
  {
   "cell_type": "code",
   "execution_count": 34,
   "metadata": {},
   "outputs": [],
   "source": [
    "# Data\n",
    "URL = \"https://odre.opendatasoft.com/api/explore/v2.1/catalog/datasets/\"\n",
    "\n",
    "# Imports\n",
    "import requests\n",
    "import sqlite3\n",
    "import time\n",
    "from datetime import datetime, timedelta\n",
    "\n",
    "import matplotlib.pyplot as plt\n",
    "import pandas as pd\n",
    "from ipywidgets import interact, VBox, HBox, DatePicker, Output, Dropdown\n",
    "from IPython.display import display, clear_output"
   ]
  },
  {
   "cell_type": "markdown",
   "metadata": {},
   "source": [
    "<h2 style=\"padding:16px; color:#FFF; background:#07D\">I. Présentation des données</h2>\n",
    "\n",
    "éCO2mix est un outil créé par RTE France afin de mieux connaître en temps réel l'électricité en France. RTE France met à disposition gratuitement, via plusieurs API, les base de données utilisée par éCO2mix qui fournissent les données de 2013 à aujourd'hui. Les informations fournient par les API sont les suivantes :\n",
    "\n",
    "- Consommation d’électricité en France métropolitaine (hors Corse) et prévisions calculées la veille et en début d’après-midi le jour J ;\n",
    "- Production d’électricité française par filière en valeur et en pourcentage ;\n",
    "- Échanges commerciaux d’électricité avec les 6 pays voisins ;\n",
    "- Émissions de CO2 que génère la production d’électricité ;\n",
    "- Données mensuelles à l’échelle régionale : consommation, production et flux interrégionaux.\n",
    "\n",
    "Les données sont séparées en 4 bases de données :\n",
    "\n",
    "- Données éCO2mix nationales temps réel\n",
    "- Données éCO2mix nationales consolidées et définitives\n",
    "- Données éCO2mix régionales temps réel\n",
    "- Données éCO2mix régionales consolidées et définitives"
   ]
  },
  {
   "cell_type": "markdown",
   "metadata": {},
   "source": [
    "<h2 style=\"padding:16px; color:#FFF; background:#07D\">II. Objectif de l'étude</h2>\n",
    "\n",
    "Cette étude a pour but l'analyse de la production, de la consommation et des échanges d'électricité en France depuis 2013. L'objectif est de déterminer les parts des différentes filières dans la production d'électricité et de voir leur évolution au cours du temps, de comprendre les tendances dans la consommation d'électricité sur plusieurs échelles de temps et d'identifier la tendance commerciale de la France avec ses pays voisins sur le marché de l'électricité. Enfin, cette étude nous permettra d'étudier l'impact de la production d'électricité sur les émissions de CO2 en France."
   ]
  },
  {
   "cell_type": "markdown",
   "metadata": {},
   "source": [
    "<h2 style=\"padding:16px; color:#FFF; background:#07D\">III. Récupération des données</h2>"
   ]
  },
  {
   "cell_type": "code",
   "execution_count": 2,
   "metadata": {},
   "outputs": [],
   "source": [
    "def fetch_data_by_date(data:str, start:int, rows:int, date:str):\n",
    "    \"\"\"Fetch data from a dataset by date and offset\n",
    "    \n",
    "    Parameters\n",
    "    ----------\n",
    "    data : str\n",
    "        Name of the dataset.\n",
    "    start : int\n",
    "        Offset.\n",
    "    rows : int\n",
    "        Number of rows.\n",
    "    date : str\n",
    "        Date of the data.\n",
    "\n",
    "    Returns\n",
    "    -------\n",
    "    dict\n",
    "        Dictionary containing the data. \n",
    "    \"\"\"\n",
    "    url = f\"{URL}{data}\" + \"/records\"\n",
    "    params = {\n",
    "        \"offset\" : start,\n",
    "        \"rows\": rows,\n",
    "        \"where\": f\"date='{date}'\"\n",
    "    }\n",
    "    response = requests.get(url, params=params)\n",
    "    data=[{}]\n",
    "    if response.status_code == 200:\n",
    "        data = response.json()\n",
    "        return data.get('results', {})\n",
    "    else:\n",
    "        print(f\"Échec de la requête: {response.status_code}\")\n",
    "        print(response.text)\n",
    "        return \n",
    "    \n",
    "def get_length_per_date(data:str, date:str):\n",
    "    \"\"\"Get the number of rows for a given date\n",
    "\n",
    "    Parameters\n",
    "    ----------\n",
    "    data : str\n",
    "        Name of the dataset.\n",
    "    date : str\n",
    "        Date of the data.\n",
    "\n",
    "    Returns\n",
    "    -------\n",
    "    int\n",
    "        Number of rows.\n",
    "    \"\"\"\n",
    "    url = f\"{URL}{data}\" + \"/records\"\n",
    "    params = {\n",
    "        \"select\": \"date\",\n",
    "        \"rows\": 1,\n",
    "        \"where\": f\"date='{date}'\"\n",
    "    }\n",
    "    response = requests.get(url, params=params)\n",
    "    data=[{}]\n",
    "    if response.status_code == 200:\n",
    "        data = response.json()\n",
    "        return data.get('total_count')\n",
    "    else:\n",
    "        print(f\"Échec de la requête: {response.status_code}\")\n",
    "        print(response.text)\n",
    "        return\n",
    "    \n",
    "\n",
    "def get_date(data: str, first: bool=True) -> str:\n",
    "    \"\"\"Get the minimum or maximum date in a dataset\n",
    "\n",
    "    Parameters\n",
    "    ----------\n",
    "    data : str\n",
    "        Name of the dataset.\n",
    "    first : bool, optional\n",
    "        If True, get the minimum date, else get the maximum date. The default is True.\n",
    "    \n",
    "    Returns\n",
    "    -------\n",
    "    str\n",
    "        Date.\n",
    "    \"\"\"\n",
    "    date = \"date\" if first else \"-date\"\n",
    "    \n",
    "    url = f\"{URL}{data}\" + \"/records\"\n",
    "    params = {\n",
    "        \"select\": \"date\",\n",
    "        \"rows\": 1,\n",
    "        \"order_by\": date,\n",
    "    }\n",
    "    response = requests.get(url, params=params)\n",
    "    data=[{}]\n",
    "    if response.status_code == 200:\n",
    "        data = response.json()\n",
    "        return data.get('results')[0]['date']\n",
    "    else:\n",
    "        print(f\"Échec de la requête: {response.status_code}\")\n",
    "        print(response.text)\n",
    "        return"
   ]
  },
  {
   "cell_type": "code",
   "execution_count": 3,
   "metadata": {},
   "outputs": [],
   "source": [
    "## jai pas pu push la database sur git car elle est trop lourde\n",
    "\n",
    "from sqlalchemy import create_engine\n",
    "\n",
    "engine = create_engine('sqlite:///database.db') "
   ]
  },
  {
   "cell_type": "code",
   "execution_count": 4,
   "metadata": {},
   "outputs": [],
   "source": [
    "def preprocess_data(data):\n",
    "    if 'column_68' in data.columns:\n",
    "        del data['column_68']\n",
    "\n",
    "    if 'eolien_terrestre' in data.columns:\n",
    "        del data['eolien_terrestre']\n",
    "\n",
    "    if 'eolien_offshore' in data.columns:\n",
    "        del data['eolien_offshore']\n",
    "\n",
    "    if 'stockage_batterie' in data.columns:\n",
    "        del data['stockage_batterie']\n",
    "\n",
    "    if 'destockage_batterie' in data.columns:\n",
    "        del data['destockage_batterie']\n",
    "    return data\n",
    "\n",
    "def get_data(from_data: str, table_name: str) -> None:\n",
    "    \"\"\"Get data from a dataset and insert it into a sqlite database\n",
    "\n",
    "    Parameters\n",
    "    ----------\n",
    "    from_data : str\n",
    "        Name of the dataset from the API.\n",
    "    table_name : str\n",
    "        Name of the table in the database.\n",
    "    \"\"\"\n",
    "    step = 100 # Number of rows to be retrieved per request (API limit)\n",
    "    start_date = get_date(from_data)\n",
    "    end_date = get_date(from_data, first = False)\n",
    "    current_date = datetime.strptime(start_date, '%Y-%m-%d')\n",
    "    end_date = datetime.strptime(end_date, '%Y-%m-%d')\n",
    "    \n",
    "    while current_date <= end_date:\n",
    "        formatted_date = str(current_date.strftime('%Y-%m-%d'))\n",
    "        lines_per_date = get_length_per_date(from_data, str(formatted_date))\n",
    "        print(formatted_date)\n",
    "        \n",
    "        for i in range(0, lines_per_date, step):\n",
    "            rows = min(step, lines_per_date - i)\n",
    "            try:\n",
    "                data = fetch_data_by_date(from_data, i, rows, str(formatted_date))\n",
    "                df = pd.DataFrame(data)\n",
    "                df = preprocess_data(df)\n",
    "                df.to_sql(table_name, engine, if_exists='append', index=False)\n",
    "                    \n",
    "            except Exception as e:\n",
    "                print(f\"Erreur lors de l'insertion des données pour la date {formatted_date}, offset {i}: {e}\")\n",
    "                print(\"Réessai dans 5 secondes...\")\n",
    "                time.sleep(5)  \n",
    "                i -= step  \n",
    "                continue\n",
    "                \n",
    "        current_date += timedelta(days=1)\n",
    "        "
   ]
  },
  {
   "cell_type": "code",
   "execution_count": null,
   "metadata": {},
   "outputs": [],
   "source": [
    "## RUN TO DOWNLOAD THE DATABASE ##\n",
    "\n",
    "#print(\"Filling national table...\")\n",
    "#get_data(\"eco2mix-national-cons-def\", \"national\")\n",
    "#get_data(\"eco2mix-national-tr\", \"national\")\n",
    "\n",
    "#print(\"Filling regional table...\")\n",
    "#get_data(\"eco2mix-regional-cons-def\", \"regional\")\n",
    "#get_data(\"eco2mix-regional-tr\", \"regional\")"
   ]
  },
  {
   "cell_type": "code",
   "execution_count": 23,
   "metadata": {},
   "outputs": [],
   "source": [
    "### FUNCTIONS TO GET DATA FROM DATABASE ###\n",
    "\n",
    "def get_data_between_dates(table_name, start_date, end_date, db_file='database.db'):\n",
    "    \"\"\"\n",
    "    Get data from a table between two dates using sqlite3.\n",
    "\n",
    "    Parameters:\n",
    "        table_name (str): Name of the table in the database.\n",
    "        start_date (str): Start date in 'YYYY-MM-DD' format.\n",
    "        end_date (str): End date in 'YYYY-MM-DD' format.\n",
    "        db_file (str): Path to the SQLite database file.\n",
    "\n",
    "    Returns:\n",
    "        pandas.DataFrame: DataFrame containing the retrieved data.\n",
    "    \"\"\"\n",
    "    conn = sqlite3.connect(db_file)\n",
    "\n",
    "    query = f\"\"\"\n",
    "        SELECT *\n",
    "        FROM {table_name}\n",
    "        WHERE date >= '{start_date}' AND date <= '{end_date}'\n",
    "    \"\"\"\n",
    "\n",
    "    df = pd.read_sql(query, conn)\n",
    "\n",
    "    conn.close()\n",
    "\n",
    "    return df\n",
    "\n",
    "def get_data_by_date(table_name, date, db_file='database.db'):\n",
    "    \"\"\"\n",
    "    Get data from a table for a given date using sqlite3.\n",
    "\n",
    "    Parameters:\n",
    "        table_name (str): Name of the table in the database.\n",
    "        date (str): Date in 'YYYY-MM-DD'\n",
    "        db_file (str): Path to the SQLite database file.\n",
    "\n",
    "    Returns:\n",
    "        pandas.DataFrame: DataFrame containing the retrieved data.\n",
    "    \"\"\"\n",
    "    conn = sqlite3.connect(db_file)\n",
    "\n",
    "    query = f\"SELECT * FROM {table_name} WHERE date = '{date}'\"\n",
    "\n",
    "    df = pd.read_sql(query, conn)\n",
    "\n",
    "    conn.close()\n",
    "\n",
    "    return df\n",
    "\n",
    "\n",
    "def get_trade_data(start_date, end_date,  db_file='database.db'):\n",
    "    \"\"\"\n",
    "    Get trade data between two dates using sqlite3.\n",
    "\n",
    "    Parameters:\n",
    "        start_date (str): Start date in 'YYYY-MM-DD' format.\n",
    "        end_date (str): End date in 'YYYY-MM-DD' format.\n",
    "        db_file (str): Path to the SQLite database file.\n",
    "    \n",
    "    Returns:\n",
    "        pandas.DataFrame: DataFrame containing the retrieved data.\n",
    "    \"\"\"\n",
    "\n",
    "    conn = sqlite3.connect(db_file)\n",
    "    \n",
    "\n",
    "    query = f\"\"\"\n",
    "    SELECT date_heure,\n",
    "           ech_comm_angleterre, \n",
    "           ech_comm_espagne, \n",
    "           ech_comm_italie, \n",
    "           ech_comm_suisse, \n",
    "           ech_comm_allemagne_belgique \n",
    "    FROM national\n",
    "    WHERE date_heure >= '{start_date}' AND date_heure <= '{end_date}'\n",
    "    ORDER BY date_heure;\n",
    "    \"\"\"\n",
    "    \n",
    "    df = pd.read_sql_query(query, conn)\n",
    "    conn.close()\n",
    "\n",
    "    df['date_heure'] = pd.to_datetime(df['date_heure'])\n",
    "    df.set_index('date_heure', inplace=True)\n",
    "\n",
    "    return df\n",
    "\n",
    "def get_aggregated_data_by_filiere(table_name, start_date, end_date, filiere, db_file='database.db'):\n",
    "    conn = sqlite3.connect(db_file)\n",
    "\n",
    "    query = f\"\"\"\n",
    "        SELECT libelle_region, SUM({filiere}) as total_production\n",
    "        FROM {table_name}\n",
    "        WHERE date >= '{start_date}' AND date <= '{end_date}'\n",
    "        GROUP BY libelle_region\n",
    "    \"\"\"\n",
    "\n",
    "    df = pd.read_sql(query, conn)\n",
    "    conn.close()\n",
    "    return df"
   ]
  },
  {
   "cell_type": "markdown",
   "metadata": {},
   "source": [
    "<h2 style=\"padding:16px; color:#FFF; background:#07D\">IV. Analyse de la consommation</h2>\n",
    "\n",
    "La consommation d'électricité est un enjeu majeur tant sur le plan économique que sur celui de l'environnement. Elle évolue au fil du temps en fonction des avancées technologiques et des politiques énergétiques. Ces dernières années, les préoccupations environnementales croissantes ont placé la consommation d'électricité au centre des débats. Nous allons donc essayer de comprendre comment varie la consommation d'électricité en France."
   ]
  },
  {
   "cell_type": "markdown",
   "metadata": {},
   "source": [
    "## Évolution de la consommation sur une journée\n",
    "\n",
    "- un exemple en hiver\n",
    "- un exemple en été"
   ]
  },
  {
   "cell_type": "code",
   "execution_count": 10,
   "metadata": {},
   "outputs": [
    {
     "data": {
      "application/vnd.jupyter.widget-view+json": {
       "model_id": "40dbd20d88294d4baa5abbec83fab390",
       "version_major": 2,
       "version_minor": 0
      },
      "text/plain": [
       "interactive(children=(IntSlider(value=1, description='day', max=30, min=1), Output()), _dom_classes=('widget-i…"
      ]
     },
     "metadata": {},
     "output_type": "display_data"
    }
   ],
   "source": [
    "@interact(day=(1,30))\n",
    "def line_chart_consumption_november(day: int = 1) -> None:\n",
    "    \"\"\"Generate an interactive line chart of electricity consumption in France for a specific day in November 2023.\n",
    "\n",
    "    Parameters\n",
    "    ----------\n",
    "    day : int\n",
    "        Day of November 2023.\n",
    "    \n",
    "    Returns\n",
    "    -------\n",
    "    None\n",
    "\n",
    "    \"\"\"\n",
    "    df = get_data_by_date('national', f'2023-11-{day:02}')\n",
    "    df = df.sort_values(by=['heure'])\n",
    "    \n",
    "    plt.figure(figsize=(13.5,3))\n",
    "    plt.plot(df['heure'], df['consommation'])\n",
    "    plt.xticks([f'{str(i).zfill(2)}:00' for i in range(24)], [f'{i:02}h' for i in range(24)])\n",
    "    plt.xlim(left='00:00', right='23:45')\n",
    "    plt.xlabel('Heure')\n",
    "    plt.ylabel('Consommation')\n",
    "    plt.title(f'Consommation électrique en France le {day:02} novembre 2023')"
   ]
  },
  {
   "cell_type": "markdown",
   "metadata": {},
   "source": [
    "## Évolution de la consommation sur une année\n",
    "\n",
    "- datepicker pour choisir l'année (exclure 2024 pour des raisons évidentes)\n"
   ]
  },
  {
   "cell_type": "code",
   "execution_count": 6,
   "metadata": {},
   "outputs": [
    {
     "data": {
      "application/vnd.jupyter.widget-view+json": {
       "model_id": "a14d12dcd98f44838d9b71d2c5e9e4ba",
       "version_major": 2,
       "version_minor": 0
      },
      "text/plain": [
       "VBox(children=(HBox(children=(DatePicker(value=datetime.date(2023, 10, 31), description='Date de début', step=…"
      ]
     },
     "metadata": {},
     "output_type": "display_data"
    }
   ],
   "source": [
    "start_date_picker = DatePicker(description='Date de début', disabled=False, value=datetime.strptime(\"2023-11-01\", \"%Y-%m-%d\").date() - timedelta(days=1))\n",
    "end_date_picker = DatePicker(description='Date de fin', disabled=False, value=datetime.strptime(\"2023-11-01\", \"%Y-%m-%d\").date())\n",
    "\n",
    "output = Output()\n",
    "\n",
    "def draw_figure(start_date, end_date):\n",
    "    df = get_data_between_dates('national', start_date, end_date)\n",
    "    df['date_heure'] = pd.to_datetime(df['date_heure'])\n",
    "    df = df.sort_values(by=['date_heure']).dropna()\n",
    "\n",
    "    plt.figure(figsize=(10, 5))\n",
    "    plt.plot(df['date_heure'], df['consommation'], label='Consommation')\n",
    "    plt.fill_between(df['date_heure'], 0, df['consommation'], alpha=0.2)\n",
    "    plt.plot(df['date_heure'], df['prevision_j'], label='prevision_j')\n",
    "    plt.plot(df['date_heure'], df['prevision_j1'], label='prevision_j1')\n",
    "    plt.xlabel('Date et Heure')\n",
    "    plt.ylabel('Consommation (MW)')\n",
    "    plt.title(f'Consommation électrique en France du {start_date} au {end_date}')\n",
    "    plt.legend(bbox_to_anchor=(1, 1))\n",
    "    plt.show()\n",
    "\n",
    "def update_figure(change):\n",
    "    with output:\n",
    "        clear_output(wait=True)  # Clear the previous graph\n",
    "        draw_figure(start_date_picker.value, end_date_picker.value)\n",
    "\n",
    "start_date_picker.observe(update_figure, names='value')\n",
    "end_date_picker.observe(update_figure, names='value')\n",
    "\n",
    "display(VBox([HBox([start_date_picker, end_date_picker]), output]))\n",
    "\n",
    "update_figure(None)"
   ]
  },
  {
   "cell_type": "markdown",
   "metadata": {},
   "source": [
    "## Différence de consommation entre les régions\n",
    "\n",
    "Grille avec :\n",
    "- Datepicker pour choisir la date/mois/année c'est l'occasion de faire un widget\n",
    "- Carte de France avec les régions colorées en fonction de leur consommation\n",
    "- Linechart avec toutes les régions qui se superposent"
   ]
  },
  {
   "cell_type": "code",
   "execution_count": 7,
   "metadata": {},
   "outputs": [
    {
     "data": {
      "application/vnd.jupyter.widget-view+json": {
       "model_id": "b778e89f03a74dc9acfc748f53b81ae3",
       "version_major": 2,
       "version_minor": 0
      },
      "text/plain": [
       "VBox(children=(HBox(children=(DatePicker(value=datetime.date(2023, 10, 31), description='Date de début', step=…"
      ]
     },
     "metadata": {},
     "output_type": "display_data"
    }
   ],
   "source": [
    "start_date_picker = DatePicker(description='Date de début', disabled=False, value=datetime.strptime(\"2023-11-01\", \"%Y-%m-%d\").date() - timedelta(days=1))\n",
    "end_date_picker = DatePicker(description='Date de fin', disabled=False, value=datetime.strptime(\"2023-11-01\", \"%Y-%m-%d\").date())\n",
    "\n",
    "output = Output()\n",
    "\n",
    "def draw_figure(start_date, end_date):\n",
    "    df = get_data_between_dates('regional', start_date, end_date)\n",
    "    df['date_heure'] = pd.to_datetime(df['date_heure'])\n",
    "    df = df.sort_values(by=['date_heure'])\n",
    "    plt.figure(figsize=(10, 5))\n",
    "\n",
    "    for region in df['libelle_region'].unique():\n",
    "        regional_data = df[df['libelle_region'] == region]\n",
    "        plt.plot(regional_data['date_heure'], regional_data['consommation'], label=region)\n",
    "    \n",
    "    plt.xlabel('Date et Heure')\n",
    "    plt.ylabel('Consommation (MW)')\n",
    "    plt.title(f'Consommation électrique par région en France du {start_date} au {end_date}')\n",
    "    plt.legend(bbox_to_anchor=(1, 1))\n",
    "    plt.show()\n",
    "\n",
    "def update_figure(change):\n",
    "    with output:\n",
    "        clear_output(wait=True)  # Clear the previous graph\n",
    "        draw_figure(start_date_picker.value, end_date_picker.value)\n",
    "\n",
    "start_date_picker.observe(update_figure, names='value')\n",
    "end_date_picker.observe(update_figure, names='value')\n",
    "\n",
    "display(VBox([HBox([start_date_picker, end_date_picker]), output]))\n",
    "\n",
    "update_figure(None)"
   ]
  },
  {
   "cell_type": "markdown",
   "metadata": {},
   "source": [
    "## Conclusion sur la consommation d'électricité en France"
   ]
  },
  {
   "cell_type": "markdown",
   "metadata": {},
   "source": [
    "<h2 style=\"padding:16px; color:#FFF; background:#07D\">V. Analyse de la production</h2>\n",
    "\n",
    "La France est connue pour son industrie nucléaire civil. En effet, le pays a grandement misé sur cette filière pour produire de l'électricité et le nucléaire est la 1ère source de production d'électricité en France. Cependant, le développement des énergies renouvelables est un des grands enjeux de la transition énergétique et la France a également investi dans ces filières. Nous allons donc étudier la production d'électricité en France depuis 2013 et voir l'évolution des différentes filières."
   ]
  },
  {
   "cell_type": "markdown",
   "metadata": {},
   "source": [
    "## Production d'électricité en France (hors Corse)\n",
    "\n",
    "Linechart sur la production d'électricité en France selon plusieurs échelles de temps (jour, semaine, mois, année)"
   ]
  },
  {
   "cell_type": "code",
   "execution_count": 8,
   "metadata": {},
   "outputs": [
    {
     "data": {
      "application/vnd.jupyter.widget-view+json": {
       "model_id": "46a71037a1d44fdda27cfee3d243873a",
       "version_major": 2,
       "version_minor": 0
      },
      "text/plain": [
       "VBox(children=(HBox(children=(DatePicker(value=datetime.date(2023, 10, 31), description='Date de début', step=…"
      ]
     },
     "metadata": {},
     "output_type": "display_data"
    }
   ],
   "source": [
    "start_date_picker = DatePicker(description='Date de début', disabled=False, value=datetime.strptime(\"2023-11-01\", \"%Y-%m-%d\").date() - timedelta(days=1))\n",
    "end_date_picker = DatePicker(description='Date de fin', disabled=False, value=datetime.strptime(\"2023-11-01\", \"%Y-%m-%d\").date())\n",
    "\n",
    "output = Output()\n",
    "\n",
    "def draw_figure(start_date, end_date):\n",
    "    df = get_data_between_dates('national', start_date, end_date)\n",
    "    df['date_heure'] = pd.to_datetime(df['date_heure'])\n",
    "    df = df.sort_values(by=['date_heure']).dropna()\n",
    "\n",
    "    plt.figure(figsize=(10, 5))\n",
    "    plt.plot(df['date_heure'], df['nucleaire'], label='Nucléaire')\n",
    "    plt.plot(df['date_heure'], df['hydraulique'], label='Hydraulique')\n",
    "    plt.plot(df['date_heure'], df['eolien'], label='Eolien')\n",
    "    plt.plot(df['date_heure'], df['solaire'], label='Solaire')\n",
    "    plt.plot(df['date_heure'], df['bioenergies'], label='Bioenergies')\n",
    "    plt.plot(df['date_heure'], df['gaz'], label='Gaz')\n",
    "    plt.plot(df['date_heure'], df['fioul'], label='Fioul')\n",
    "    plt.plot(df['date_heure'], df['charbon'], label='Charbon')\n",
    "\n",
    "    plt.xlabel('Date et Heure')\n",
    "    plt.ylabel('Production (MW)')\n",
    "    plt.title(f'Production électrique en France du {start_date} au {end_date}')\n",
    "    plt.legend()\n",
    "    plt.show()\n",
    "\n",
    "def update_figure(change):\n",
    "    with output:\n",
    "        clear_output(wait=True)  # Clear the previous graph\n",
    "        draw_figure(start_date_picker.value, end_date_picker.value)\n",
    "\n",
    "start_date_picker.observe(update_figure, names='value')\n",
    "end_date_picker.observe(update_figure, names='value')\n",
    "\n",
    "display(VBox([HBox([start_date_picker, end_date_picker]), output]))\n",
    "\n",
    "update_figure(None)\n"
   ]
  },
  {
   "cell_type": "markdown",
   "metadata": {},
   "source": [
    "## Production d'électricité par région et par filière\n",
    "\n",
    "Grille avec :\n",
    "- Datepicker pour choisir la date/mois/année\n",
    "- interact avec choix entre 'régions' et 'filières'\n",
    "- Piechart sur la somme de la production d'électricité par filière/région sur la période choisie\n",
    "- Linechart avec toutes les filières/régions qui se superposent sur la période choisie"
   ]
  },
  {
   "cell_type": "code",
   "execution_count": 37,
   "metadata": {},
   "outputs": [
    {
     "data": {
      "application/vnd.jupyter.widget-view+json": {
       "model_id": "7cb1dc4c7e0b48e795b9d08998574ec5",
       "version_major": 2,
       "version_minor": 0
      },
      "text/plain": [
       "VBox(children=(HBox(children=(DatePicker(value=datetime.date(2023, 10, 31), description='Date de début', step=…"
      ]
     },
     "metadata": {},
     "output_type": "display_data"
    }
   ],
   "source": [
    "start_date_picker = DatePicker(description='Date de début', disabled=False, value=datetime.strptime(\"2023-11-01\", \"%Y-%m-%d\").date() - timedelta(days=1))\n",
    "end_date_picker = DatePicker(description='Date de fin', disabled=False, value=datetime.strptime(\"2023-11-01\", \"%Y-%m-%d\").date())\n",
    "\n",
    "filiere_picker = Dropdown(options=['nucleaire', 'hydraulique', 'eolien', 'solaire', 'bioenergies', 'thermique'], description='Filière', disabled=False)\n",
    "\n",
    "output = Output()\n",
    "output_pie_chart = Output()\n",
    "\n",
    "def draw_figure_all_region(start_date, end_date, filiere):\n",
    "    df = get_data_between_dates('regional', start_date, end_date)\n",
    "    df['date_heure'] = pd.to_datetime(df['date_heure'])\n",
    "    df = df.sort_values(by=['date_heure'])\n",
    "\n",
    "    regions = df['libelle_region'].unique()\n",
    "\n",
    "    plt.figure(figsize=(10, 5))\n",
    "    \n",
    "    for region in regions:\n",
    "        regional_data = df[df['libelle_region'] == region]\n",
    "        plt.plot(regional_data['date_heure'], regional_data[filiere], label=region)\n",
    "\n",
    "    plt.xlabel('Date et Heure')\n",
    "    plt.ylabel(f'Production ({filiere}) (MW)')\n",
    "    plt.title(f'Production électrique {filiere} en France par région du {start_date.strftime(\"%Y-%m-%d\")} au {end_date.strftime(\"%Y-%m-%d\")}')\n",
    "    plt.legend(bbox_to_anchor=(1, 1))\n",
    "    plt.show()\n",
    "\n",
    "def draw_pie_chart(start_date, end_date, filiere):\n",
    "    df = get_aggregated_data_by_filiere('regional', start_date, end_date, filiere)\n",
    "    df = df[df['total_production'] > 0]  # filter out regions with no production\n",
    "\n",
    "    with output_pie_chart:\n",
    "        clear_output(wait=True)\n",
    "        plt.figure(figsize=(7, 7))\n",
    "        plt.pie(df['total_production'], labels=df['libelle_region'], autopct='%1.1f%%', startangle=140)\n",
    "        plt.title(f'Proportion de production {filiere} par région du {start_date} au {end_date}')\n",
    "        plt.show()\n",
    "\n",
    "def update_charts(change):\n",
    "    with output:\n",
    "        clear_output(wait=True)\n",
    "        draw_figure_all_region(start_date_picker.value, end_date_picker.value, filiere_picker.value)\n",
    "    \n",
    "    draw_pie_chart(start_date_picker.value, end_date_picker.value, filiere_picker.value)\n",
    "\n",
    "start_date_picker.observe(update_charts, names='value')\n",
    "end_date_picker.observe(update_charts, names='value')\n",
    "filiere_picker.observe(update_charts, names='value')\n",
    "\n",
    "display(VBox([HBox([start_date_picker, end_date_picker, filiere_picker]), output, output_pie_chart]))\n",
    "\n",
    "update_charts(None)"
   ]
  },
  {
   "cell_type": "markdown",
   "metadata": {},
   "source": [
    "## Évolution du la part du renouvelable dans le mix énergétique\n",
    "\n",
    "Carte de la France avec évolution de la part du renouvelable dans le mix énergétique"
   ]
  },
  {
   "cell_type": "markdown",
   "metadata": {},
   "source": [
    "## Conclusion sur la production d'électricité en France"
   ]
  },
  {
   "cell_type": "markdown",
   "metadata": {},
   "source": [
    "<h2 style=\"padding:16px; color:#FFF; background:#07D\">VI. Analyse des échanges commerciaux</h2>\n",
    "\n",
    "Suite à nos analyses sur la production et la consommation d'électricité en France, nous avons pu voir que la France est un pays qui produit plus d'électricité qu'il n'en consomme. Nous pouvons donc nous dire que la France exporte de l'électricité avec d'autres pays. Nous allons donc étudier les échanges commerciaux d'électricité entre la France et ses pays voisins."
   ]
  },
  {
   "cell_type": "markdown",
   "metadata": {},
   "source": [
    "linechart de densité avec les échanges commerciaux entre la France et ses pays voisins avec positif et négatif sur plusieurs échelles de temps (jour, mois, année)"
   ]
  },
  {
   "cell_type": "markdown",
   "metadata": {},
   "source": [
    "Conclusion à la suite (petite partie)"
   ]
  },
  {
   "cell_type": "code",
   "execution_count": 51,
   "metadata": {},
   "outputs": [
    {
     "data": {
      "application/vnd.jupyter.widget-view+json": {
       "model_id": "5b520f2c1ce24796b4582bfb9cbaef56",
       "version_major": 2,
       "version_minor": 0
      },
      "text/plain": [
       "VBox(children=(HBox(children=(DatePicker(value=datetime.date(2024, 1, 7), description='Date de début', step=1)…"
      ]
     },
     "metadata": {},
     "output_type": "display_data"
    }
   ],
   "source": [
    "start_date_picker = DatePicker(description='Date de début', disabled=False, value=datetime.now().date() - timedelta(days=1))\n",
    "end_date_picker = DatePicker(description='Date de fin', disabled=False, value=datetime.now().date())\n",
    "\n",
    "output = Output()\n",
    "\n",
    "def draw_stacked_bar_chart(start_date, end_date):\n",
    "    df = get_trade_data(start_date, end_date)\n",
    "    df = df.sort_values(by=['date_heure']).dropna()\n",
    "\n",
    "    for col in df.columns:\n",
    "        df[col] = pd.to_numeric(df[col], errors='coerce')\n",
    "\n",
    "    df_cum = df.clip(lower=0)  # Clip the negative values and sum the values\n",
    "    df_cum_neg = df.clip(upper=0) # Clip the positive values and sum the values\n",
    "\n",
    "    colors = ['blue', 'orange', 'green', 'red', 'purple']\n",
    "    labels = ['Angleterre', 'Espagne', 'Italie', 'Suisse', 'Allemagne/Belgique']\n",
    "    legend_patches = [plt.Rectangle((0, 0), 1, 1, fc=color) for color in colors]\n",
    "    \n",
    "    with output:\n",
    "        clear_output(wait=True)  \n",
    "        \n",
    "        fig, ax = plt.subplots(figsize=(14, 5))\n",
    "        df_cum.plot(kind='bar', stacked=True, ax=ax, width=0.95, color=colors) # Plot the positive values\n",
    "        df_cum_neg.plot(kind='bar', stacked=True, ax=ax, width=0.95, color=colors) # Plot the negative values\n",
    "\n",
    "        ax.axhline(0, color='grey', linewidth=0.8)\n",
    "        ax.set_ylabel('Valeur des échanges (MW)')\n",
    "        ax.set_xlabel('Date et Heure')\n",
    "        ax.set_title('Échanges commerciaux par heure')\n",
    "        \n",
    "        ticks = ax.get_xticks()\n",
    "        ticklabels = [l.get_text() for l in ax.get_xticklabels()]\n",
    "        ax.set_xticks(ticks[::10]) \n",
    "        ax.set_xticklabels(ticklabels[::10], rotation=45, ha=\"right\")\n",
    "\n",
    "        ax.legend(legend_patches, labels, loc='lower left', bbox_to_anchor=(1, 0))\n",
    "        plt.tight_layout() \n",
    "        plt.show()\n",
    "\n",
    "def calculate_trade_totals(df):\n",
    "    exports = df[df < 0].sum().abs()  \n",
    "    imports = df[df > 0].sum()       \n",
    "\n",
    "    return exports, imports\n",
    "\n",
    "def display_trade_totals(start_date, end_date):\n",
    "    df = get_trade_data(start_date, end_date)\n",
    "    df = df.sort_values(by=['date_heure']).dropna()\n",
    "\n",
    "    for col in df.columns:\n",
    "        df[col] = pd.to_numeric(df[col], errors='coerce')\n",
    "\n",
    "    exports, imports = calculate_trade_totals(df)\n",
    "\n",
    "    totals_df = pd.DataFrame({\n",
    "        'Exportations': exports,\n",
    "        'Importations': imports\n",
    "    })\n",
    "\n",
    "    with output:\n",
    "        print(\"Totaux d'échanges commerciaux (MW):\")\n",
    "        print(totals_df)\n",
    "        print()\n",
    "\n",
    "def update_figure(change):\n",
    "    draw_stacked_bar_chart(start_date_picker.value, end_date_picker.value)\n",
    "    display_trade_totals(start_date_picker.value, end_date_picker.value)\n",
    "\n",
    "start_date_picker.observe(update_figure, names='value')\n",
    "end_date_picker.observe(update_figure, names='value')\n",
    "\n",
    "display(VBox([HBox([start_date_picker, end_date_picker]), output]))\n",
    "\n",
    "update_figure(None)\n"
   ]
  },
  {
   "cell_type": "markdown",
   "metadata": {},
   "source": [
    "<h2 style=\"padding:16px; color:#FFF; background:#07D\">Conclusion de l'étude</h2>"
   ]
  }
 ],
 "metadata": {
  "kernelspec": {
   "display_name": "Python 3",
   "language": "python",
   "name": "python3"
  },
  "language_info": {
   "codemirror_mode": {
    "name": "ipython",
    "version": 3
   },
   "file_extension": ".py",
   "mimetype": "text/x-python",
   "name": "python",
   "nbconvert_exporter": "python",
   "pygments_lexer": "ipython3",
   "version": "3.10.2"
  }
 },
 "nbformat": 4,
 "nbformat_minor": 2
}

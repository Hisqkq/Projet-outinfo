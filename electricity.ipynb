{
 "cells": [
  {
   "cell_type": "markdown",
   "metadata": {},
   "source": [
    "<div style=\"width:100%; text-align:center; margin: 40px 0;\">\n",
    "    <h1 style=\"color: #003366; font-size: 40px; font-weight:bold; text-shadow: 2px 2px 5px grey;\">\n",
    "        Énergie Électrique en France\n",
    "    </h1>\n",
    "    <hr style=\"width: 50%; height: 3px; background-color: #003366; border: none;\">\n",
    "    <p style=\"font-style:italic; font-size:18px; color: #555;\">\n",
    "        Une exploration approfondie de l'énergie électrique en France\n",
    "    </p>\n",
    "</div>\n"
   ]
  },
  {
   "cell_type": "markdown",
   "metadata": {},
   "source": [
    "## Données:\n",
    "\n",
    "Dans ce projet nous allons travailler sur des données produites par RTE France. Nous allons récolter ces données grâce à une API (OpenData Reseaux Energie https://opendata.reseaux-energies.fr/). Nous allons travailler sur des données régionales récoltées au niveau régional et sur des données nationales. Nous aurons aussi des API qui contiennent des données en temps réel, ce qui nous permettra d'avoir des données mise à jour régulierement.  \n",
    "\n",
    "Voici les 4 liens API que nous utiliserons durant ce projet:\n",
    "- Données Nationales en temps réel (du 1er Juin 2022 à aujourd'hui): `https://odre.opendatasoft.com/api/explore/v2.1/catalog/datasets/eco2mix-national-tr`\n",
    "- Données Nationales fixes (jusqu'au 31 Mai 2022): `https://odre.opendatasoft.com/api/explore/v2.1/catalog/datasets/eco2mix-national-cons-def`\n",
    "- Données Régionales en temps réel (du 1er Juin 2022 à aujourd'hui): `https://odre.opendatasoft.com/api/explore/v2.1/catalog/datasets/eco2mix-regional-tr`\n",
    "- Données Régionales fixes (jusqu'au 31 Mai 2022): `https://odre.opendatasoft.com/api/explore/v2.1/catalog/datasets/eco2mix-regional-cons-def`\n",
    "\n",
    "Grâce au module `request` de python nous allons pouvoir faire des requêtes de type SQL à ces API dans le but d'obtenir les données dont nous avons besoin au format JSON.\n",
    "\n",
    "Nous utiliserons aussi un fichier GeoJson récupéré sur le site `https://france-geojson.gregoiredavid.fr/`. Ce fichier possède les données géographiques de la France, par région ou par département. Les données de RTE France étant uniquement nationales et régionales, nous utiliserons uniquement le GeoJson des régions de la France.\n",
    "\n",
    "### Variables que nous allons analyser\n",
    "\n",
    "- **Date** : *Date à laquelle les données ont ete enregistrees*\n",
    "- **Heure** : *Date à laquelle les données ont ete enregistrees*\n",
    "- **Région** (pour les données régionales) : *La région correspondant aux données*\n",
    "- **Consommation** (MW) : *La consommation électrique réelle*\n",
    "- **Prévision**  Conso J et J-1 (MW) :  *La consommation électrique prédite par RTE France au jours J et J-1*\n",
    "- **Production par filières** (MW) : *La production d'energie electrique pqr filiere (nucleaire, hydrolique, eolien, solaire...)*\n",
    "- **Imports exports  avec plusieurs pays** (MW) : *Echanges d'energie avec les differents pays frontaliers (Suisse, Allemagne, Belgique, Angleterre, Espagne)*\n",
    "- **Emission de CO2** (g/kWh) : *La valeur d'emission de CO2*"
   ]
  },
  {
   "cell_type": "markdown",
   "metadata": {},
   "source": [
    "## Type d'analyse prévue\n",
    "\n",
    "Nous allons effectuer plusieurs visualisations sur nos données afin d'en tirer des observations. Pour cela nous allons principalement utiliser le module `plotly express` qui permet de faire des graphiques interactifs. Nous allons également améliorer l'interactivitée de notre graphique en rajoutant des modules IPython permetant à l'utilisateur de pouvoir trier et filtrer les données.  \n",
    "Nous effecturons également des analyses statistiques afin de repondre à certains questionnements sur l'électricitée en France.\n",
    "\n",
    "Pour cela nous concentrerons notre analyse sur 3 axes principaux:\n",
    "- La consommation électrique en France\n",
    "- La production d'énergie électrique aux niveaux national et régional\n",
    "- Les échanges commerciaux avec les pays frontaliers\n",
    "\n",
    "Nous allons d'abord devoir récupérer, nettoyer et formater les données lors des requêtes à l'API d'OpenData. Nous utiliserons ensuite Python et les bibliothèques Pandas et Plotly pour manipuler ces données et créer des visualisations."
   ]
  },
  {
   "cell_type": "markdown",
   "metadata": {},
   "source": [
    "## Résultats attendus\n",
    "\n",
    "A la fin de cette analyse, nous devrions être capable de répondre à plusieurs questions tel que:\n",
    "- Quels sont les modes de production les plus importants en France ? Par régions ?\n",
    "- Comment a évolué la part du renouvelable dans le mix énergétique français durant la dernière décennie ?\n",
    "- Quel est la balance commerciale de la France pour l’énergie ?\n",
    "- Comment évolue la production et la consommation de l’électricité  en France  durant 1 journée ? 1 mois ? 1 année ?\n",
    "\n",
    "Voici le type de graphique que l'on pourrait avoir à la fin de notre analyse:  \n",
    "\n",
    "Voici un graphique représentant la consommation d'énergie électrique en France sur une seule journée.\n",
    "\n",
    "![Consommation électrique](IMG/conso.png)\n",
    "\n",
    "Ensuite nous pourrions avoir un graphique qui montre les échanges d'électricité avec les pays frontaliers.  \n",
    "  \n",
    "![Echanges commerciaux](IMG/echanges_comm.png)\n",
    "\n",
    "Ensuite voici un graphique qui montre la proction d'energie électrique par la filière solaire sur une journée. Nous pouvons voir que le pic de production se situe vers 12h ce qui correspond au moment ou il y a le plus de soleil dans la journée.  \n",
    "  \n",
    "![Production d'energie solaire](IMG/production_solaire.png)  \n",
    "\n",
    "Et pour finir voici un graphique representant la part de production d'énergie électrique pour chaque filiere:  \n",
    "  \n",
    "![Production d'energie par filiere](IMG/pie_chart_production.png)  \n"
   ]
  },
  {
   "cell_type": "code",
   "execution_count": 65,
   "metadata": {},
   "outputs": [],
   "source": [
    "# Data\n",
    "\n",
    "URL = \"https://odre.opendatasoft.com/api/explore/v2.1/catalog/datasets/\"\n",
    "\n",
    "# Imports\n",
    "import requests\n",
    "import json\n",
    "\n",
    "import pandas as pd\n",
    "\n",
    "import plotly.express as px\n"
   ]
  },
  {
   "cell_type": "code",
   "execution_count": 61,
   "metadata": {},
   "outputs": [],
   "source": [
    "def fetch_data_by_date(data:str, start:int, rows:int, date:str):\n",
    "    \"\"\"Fetch data from a dataset by date and offset\n",
    "    \n",
    "    Parameters\n",
    "    ----------\n",
    "    data : str\n",
    "        Name of the dataset.\n",
    "    start : int\n",
    "        Offset.\n",
    "    rows : int\n",
    "        Number of rows.\n",
    "    date : str\n",
    "        Date of the data.\n",
    "\n",
    "    Returns\n",
    "    -------\n",
    "    dict\n",
    "        Dictionary containing the data. \n",
    "    \"\"\"\n",
    "    url = f\"{URL}{data}\" + \"/records\"\n",
    "    params = {\n",
    "        \"offset\" : start,\n",
    "        \"rows\": rows,\n",
    "        \"where\": f\"date='{date}'\"\n",
    "    }\n",
    "    response = requests.get(url, params=params)\n",
    "    data=[{}]\n",
    "    if response.status_code == 200:\n",
    "        data = response.json()\n",
    "        return data.get('results', {})\n",
    "    else:\n",
    "        print(f\"Échec de la requête: {response.status_code}\")\n",
    "        print(response.text)\n",
    "        return \n",
    "    \n",
    "def get_length_per_date(data:str, date:str):\n",
    "    \"\"\"Get the number of rows for a given date\n",
    "\n",
    "    Parameters\n",
    "    ----------\n",
    "    data : str\n",
    "        Name of the dataset.\n",
    "    date : str\n",
    "        Date of the data.\n",
    "\n",
    "    Returns\n",
    "    -------\n",
    "    int\n",
    "        Number of rows.\n",
    "    \"\"\"\n",
    "    url = f\"{URL}{data}\" + \"/records\"\n",
    "    params = {\n",
    "        \"select\": \"date\",\n",
    "        \"rows\": 1,\n",
    "        \"where\": f\"date='{date}'\"\n",
    "    }\n",
    "    response = requests.get(url, params=params)\n",
    "    data=[{}]\n",
    "    if response.status_code == 200:\n",
    "        data = response.json()\n",
    "        return data.get('total_count')\n",
    "    else:\n",
    "        print(f\"Échec de la requête: {response.status_code}\")\n",
    "        print(response.text)\n",
    "        return\n",
    "      "
   ]
  },
  {
   "cell_type": "code",
   "execution_count": 62,
   "metadata": {},
   "outputs": [],
   "source": [
    "def insert_data_into_json(file_name: str, new_data: list):\n",
    "    \"\"\"Insère de nouvelles données dans un fichier JSON existant.\n",
    "\n",
    "    Parameters\n",
    "    ----------\n",
    "    file_name : str\n",
    "        Le nom du fichier JSON.\n",
    "    new_data : list\n",
    "        La liste des nouvelles données à insérer.\n",
    "    \"\"\"\n",
    "    try:\n",
    "        with open(file_name, 'r') as file:\n",
    "            existing_data = json.load(file)\n",
    "    except FileNotFoundError:\n",
    "        existing_data = []\n",
    "\n",
    "    existing_data.extend(new_data)\n",
    "\n",
    "    with open(file_name, 'w') as file:\n",
    "        json.dump(existing_data, file)\n",
    "\n",
    "new_data = fetch_data_by_date('eco2mix-national-tr', 0, 96, '2023-01-01')\n",
    "insert_data_into_json('combined_data.json', new_data)\n"
   ]
  },
  {
   "cell_type": "code",
   "execution_count": 69,
   "metadata": {},
   "outputs": [
    {
     "data": {
      "text/html": [
       "<div>\n",
       "<style scoped>\n",
       "    .dataframe tbody tr th:only-of-type {\n",
       "        vertical-align: middle;\n",
       "    }\n",
       "\n",
       "    .dataframe tbody tr th {\n",
       "        vertical-align: top;\n",
       "    }\n",
       "\n",
       "    .dataframe thead th {\n",
       "        text-align: right;\n",
       "    }\n",
       "</style>\n",
       "<table border=\"1\" class=\"dataframe\">\n",
       "  <thead>\n",
       "    <tr style=\"text-align: right;\">\n",
       "      <th></th>\n",
       "      <th>perimetre</th>\n",
       "      <th>nature</th>\n",
       "      <th>date</th>\n",
       "      <th>heure</th>\n",
       "      <th>date_heure</th>\n",
       "      <th>consommation</th>\n",
       "      <th>prevision_j1</th>\n",
       "      <th>prevision_j</th>\n",
       "      <th>fioul</th>\n",
       "      <th>charbon</th>\n",
       "      <th>...</th>\n",
       "      <th>gaz_ccg</th>\n",
       "      <th>gaz_autres</th>\n",
       "      <th>hydraulique_fil_eau_eclusee</th>\n",
       "      <th>hydraulique_lacs</th>\n",
       "      <th>hydraulique_step_turbinage</th>\n",
       "      <th>bioenergies_dechets</th>\n",
       "      <th>bioenergies_biomasse</th>\n",
       "      <th>bioenergies_biogaz</th>\n",
       "      <th>stockage_batterie</th>\n",
       "      <th>destockage_batterie</th>\n",
       "    </tr>\n",
       "  </thead>\n",
       "  <tbody>\n",
       "    <tr>\n",
       "      <th>0</th>\n",
       "      <td>France</td>\n",
       "      <td>Données temps réel</td>\n",
       "      <td>2023-01-01</td>\n",
       "      <td>01:00</td>\n",
       "      <td>2023-01-01T00:00:00+00:00</td>\n",
       "      <td>45197</td>\n",
       "      <td>43800</td>\n",
       "      <td>45700</td>\n",
       "      <td>204</td>\n",
       "      <td>44</td>\n",
       "      <td>...</td>\n",
       "      <td>420</td>\n",
       "      <td>0</td>\n",
       "      <td>4854</td>\n",
       "      <td>676</td>\n",
       "      <td>922</td>\n",
       "      <td>133</td>\n",
       "      <td>427</td>\n",
       "      <td>257</td>\n",
       "      <td>ND</td>\n",
       "      <td>ND</td>\n",
       "    </tr>\n",
       "    <tr>\n",
       "      <th>1</th>\n",
       "      <td>France</td>\n",
       "      <td>Données temps réel</td>\n",
       "      <td>2023-01-01</td>\n",
       "      <td>01:15</td>\n",
       "      <td>2023-01-01T00:15:00+00:00</td>\n",
       "      <td>45675</td>\n",
       "      <td>44100</td>\n",
       "      <td>45950</td>\n",
       "      <td>204</td>\n",
       "      <td>44</td>\n",
       "      <td>...</td>\n",
       "      <td>416</td>\n",
       "      <td>0</td>\n",
       "      <td>4858</td>\n",
       "      <td>659</td>\n",
       "      <td>914</td>\n",
       "      <td>136</td>\n",
       "      <td>425</td>\n",
       "      <td>257</td>\n",
       "      <td>ND</td>\n",
       "      <td>ND</td>\n",
       "    </tr>\n",
       "    <tr>\n",
       "      <th>2</th>\n",
       "      <td>France</td>\n",
       "      <td>Données temps réel</td>\n",
       "      <td>2023-01-01</td>\n",
       "      <td>03:00</td>\n",
       "      <td>2023-01-01T02:00:00+00:00</td>\n",
       "      <td>42697</td>\n",
       "      <td>41200</td>\n",
       "      <td>43200</td>\n",
       "      <td>202</td>\n",
       "      <td>44</td>\n",
       "      <td>...</td>\n",
       "      <td>418</td>\n",
       "      <td>0</td>\n",
       "      <td>4774</td>\n",
       "      <td>0</td>\n",
       "      <td>414</td>\n",
       "      <td>137</td>\n",
       "      <td>423</td>\n",
       "      <td>257</td>\n",
       "      <td>ND</td>\n",
       "      <td>ND</td>\n",
       "    </tr>\n",
       "    <tr>\n",
       "      <th>3</th>\n",
       "      <td>France</td>\n",
       "      <td>Données temps réel</td>\n",
       "      <td>2023-01-01</td>\n",
       "      <td>04:00</td>\n",
       "      <td>2023-01-01T03:00:00+00:00</td>\n",
       "      <td>39975</td>\n",
       "      <td>38300</td>\n",
       "      <td>40500</td>\n",
       "      <td>202</td>\n",
       "      <td>44</td>\n",
       "      <td>...</td>\n",
       "      <td>550</td>\n",
       "      <td>0</td>\n",
       "      <td>4652</td>\n",
       "      <td>0</td>\n",
       "      <td>226</td>\n",
       "      <td>138</td>\n",
       "      <td>422</td>\n",
       "      <td>257</td>\n",
       "      <td>ND</td>\n",
       "      <td>ND</td>\n",
       "    </tr>\n",
       "    <tr>\n",
       "      <th>4</th>\n",
       "      <td>France</td>\n",
       "      <td>Données temps réel</td>\n",
       "      <td>2023-01-01</td>\n",
       "      <td>08:30</td>\n",
       "      <td>2023-01-01T07:30:00+00:00</td>\n",
       "      <td>39263</td>\n",
       "      <td>36200</td>\n",
       "      <td>39300</td>\n",
       "      <td>204</td>\n",
       "      <td>46</td>\n",
       "      <td>...</td>\n",
       "      <td>438</td>\n",
       "      <td>0</td>\n",
       "      <td>4662</td>\n",
       "      <td>0</td>\n",
       "      <td>0</td>\n",
       "      <td>134</td>\n",
       "      <td>424</td>\n",
       "      <td>257</td>\n",
       "      <td>ND</td>\n",
       "      <td>ND</td>\n",
       "    </tr>\n",
       "    <tr>\n",
       "      <th>...</th>\n",
       "      <td>...</td>\n",
       "      <td>...</td>\n",
       "      <td>...</td>\n",
       "      <td>...</td>\n",
       "      <td>...</td>\n",
       "      <td>...</td>\n",
       "      <td>...</td>\n",
       "      <td>...</td>\n",
       "      <td>...</td>\n",
       "      <td>...</td>\n",
       "      <td>...</td>\n",
       "      <td>...</td>\n",
       "      <td>...</td>\n",
       "      <td>...</td>\n",
       "      <td>...</td>\n",
       "      <td>...</td>\n",
       "      <td>...</td>\n",
       "      <td>...</td>\n",
       "      <td>...</td>\n",
       "      <td>...</td>\n",
       "      <td>...</td>\n",
       "    </tr>\n",
       "    <tr>\n",
       "      <th>91</th>\n",
       "      <td>France</td>\n",
       "      <td>Données temps réel</td>\n",
       "      <td>2023-01-01</td>\n",
       "      <td>18:00</td>\n",
       "      <td>2023-01-01T17:00:00+00:00</td>\n",
       "      <td>46315</td>\n",
       "      <td>44900</td>\n",
       "      <td>45900</td>\n",
       "      <td>200</td>\n",
       "      <td>50</td>\n",
       "      <td>...</td>\n",
       "      <td>622</td>\n",
       "      <td>0</td>\n",
       "      <td>5423</td>\n",
       "      <td>2165</td>\n",
       "      <td>2232</td>\n",
       "      <td>111</td>\n",
       "      <td>426</td>\n",
       "      <td>257</td>\n",
       "      <td>ND</td>\n",
       "      <td>ND</td>\n",
       "    </tr>\n",
       "    <tr>\n",
       "      <th>92</th>\n",
       "      <td>France</td>\n",
       "      <td>Données temps réel</td>\n",
       "      <td>2023-01-01</td>\n",
       "      <td>20:45</td>\n",
       "      <td>2023-01-01T19:45:00+00:00</td>\n",
       "      <td>45950</td>\n",
       "      <td>45350</td>\n",
       "      <td>46050</td>\n",
       "      <td>200</td>\n",
       "      <td>56</td>\n",
       "      <td>...</td>\n",
       "      <td>454</td>\n",
       "      <td>0</td>\n",
       "      <td>5342</td>\n",
       "      <td>896</td>\n",
       "      <td>345</td>\n",
       "      <td>119</td>\n",
       "      <td>429</td>\n",
       "      <td>257</td>\n",
       "      <td>ND</td>\n",
       "      <td>ND</td>\n",
       "    </tr>\n",
       "    <tr>\n",
       "      <th>93</th>\n",
       "      <td>France</td>\n",
       "      <td>Données temps réel</td>\n",
       "      <td>2023-01-01</td>\n",
       "      <td>22:30</td>\n",
       "      <td>2023-01-01T21:30:00+00:00</td>\n",
       "      <td>44463</td>\n",
       "      <td>43700</td>\n",
       "      <td>44200</td>\n",
       "      <td>200</td>\n",
       "      <td>55</td>\n",
       "      <td>...</td>\n",
       "      <td>412</td>\n",
       "      <td>0</td>\n",
       "      <td>4959</td>\n",
       "      <td>797</td>\n",
       "      <td>488</td>\n",
       "      <td>123</td>\n",
       "      <td>432</td>\n",
       "      <td>257</td>\n",
       "      <td>ND</td>\n",
       "      <td>ND</td>\n",
       "    </tr>\n",
       "    <tr>\n",
       "      <th>94</th>\n",
       "      <td>France</td>\n",
       "      <td>Données temps réel</td>\n",
       "      <td>2023-01-01</td>\n",
       "      <td>23:00</td>\n",
       "      <td>2023-01-01T22:00:00+00:00</td>\n",
       "      <td>45451</td>\n",
       "      <td>45800</td>\n",
       "      <td>46300</td>\n",
       "      <td>200</td>\n",
       "      <td>56</td>\n",
       "      <td>...</td>\n",
       "      <td>412</td>\n",
       "      <td>0</td>\n",
       "      <td>4930</td>\n",
       "      <td>786</td>\n",
       "      <td>578</td>\n",
       "      <td>121</td>\n",
       "      <td>431</td>\n",
       "      <td>257</td>\n",
       "      <td>ND</td>\n",
       "      <td>ND</td>\n",
       "    </tr>\n",
       "    <tr>\n",
       "      <th>95</th>\n",
       "      <td>France</td>\n",
       "      <td>Données temps réel</td>\n",
       "      <td>2023-01-01</td>\n",
       "      <td>23:15</td>\n",
       "      <td>2023-01-01T22:15:00+00:00</td>\n",
       "      <td>45315</td>\n",
       "      <td>45400</td>\n",
       "      <td>45900</td>\n",
       "      <td>200</td>\n",
       "      <td>57</td>\n",
       "      <td>...</td>\n",
       "      <td>416</td>\n",
       "      <td>0</td>\n",
       "      <td>4818</td>\n",
       "      <td>699</td>\n",
       "      <td>383</td>\n",
       "      <td>121</td>\n",
       "      <td>427</td>\n",
       "      <td>257</td>\n",
       "      <td>ND</td>\n",
       "      <td>ND</td>\n",
       "    </tr>\n",
       "  </tbody>\n",
       "</table>\n",
       "<p>96 rows × 41 columns</p>\n",
       "</div>"
      ],
      "text/plain": [
       "   perimetre              nature        date  heure   \n",
       "0     France  Données temps réel  2023-01-01  01:00  \\\n",
       "1     France  Données temps réel  2023-01-01  01:15   \n",
       "2     France  Données temps réel  2023-01-01  03:00   \n",
       "3     France  Données temps réel  2023-01-01  04:00   \n",
       "4     France  Données temps réel  2023-01-01  08:30   \n",
       "..       ...                 ...         ...    ...   \n",
       "91    France  Données temps réel  2023-01-01  18:00   \n",
       "92    France  Données temps réel  2023-01-01  20:45   \n",
       "93    France  Données temps réel  2023-01-01  22:30   \n",
       "94    France  Données temps réel  2023-01-01  23:00   \n",
       "95    France  Données temps réel  2023-01-01  23:15   \n",
       "\n",
       "                   date_heure  consommation  prevision_j1  prevision_j  fioul   \n",
       "0   2023-01-01T00:00:00+00:00         45197         43800        45700    204  \\\n",
       "1   2023-01-01T00:15:00+00:00         45675         44100        45950    204   \n",
       "2   2023-01-01T02:00:00+00:00         42697         41200        43200    202   \n",
       "3   2023-01-01T03:00:00+00:00         39975         38300        40500    202   \n",
       "4   2023-01-01T07:30:00+00:00         39263         36200        39300    204   \n",
       "..                        ...           ...           ...          ...    ...   \n",
       "91  2023-01-01T17:00:00+00:00         46315         44900        45900    200   \n",
       "92  2023-01-01T19:45:00+00:00         45950         45350        46050    200   \n",
       "93  2023-01-01T21:30:00+00:00         44463         43700        44200    200   \n",
       "94  2023-01-01T22:00:00+00:00         45451         45800        46300    200   \n",
       "95  2023-01-01T22:15:00+00:00         45315         45400        45900    200   \n",
       "\n",
       "    charbon  ...  gaz_ccg  gaz_autres  hydraulique_fil_eau_eclusee   \n",
       "0        44  ...      420           0                         4854  \\\n",
       "1        44  ...      416           0                         4858   \n",
       "2        44  ...      418           0                         4774   \n",
       "3        44  ...      550           0                         4652   \n",
       "4        46  ...      438           0                         4662   \n",
       "..      ...  ...      ...         ...                          ...   \n",
       "91       50  ...      622           0                         5423   \n",
       "92       56  ...      454           0                         5342   \n",
       "93       55  ...      412           0                         4959   \n",
       "94       56  ...      412           0                         4930   \n",
       "95       57  ...      416           0                         4818   \n",
       "\n",
       "   hydraulique_lacs hydraulique_step_turbinage  bioenergies_dechets   \n",
       "0               676                        922                  133  \\\n",
       "1               659                        914                  136   \n",
       "2                 0                        414                  137   \n",
       "3                 0                        226                  138   \n",
       "4                 0                          0                  134   \n",
       "..              ...                        ...                  ...   \n",
       "91             2165                       2232                  111   \n",
       "92              896                        345                  119   \n",
       "93              797                        488                  123   \n",
       "94              786                        578                  121   \n",
       "95              699                        383                  121   \n",
       "\n",
       "    bioenergies_biomasse  bioenergies_biogaz  stockage_batterie   \n",
       "0                    427                 257                 ND  \\\n",
       "1                    425                 257                 ND   \n",
       "2                    423                 257                 ND   \n",
       "3                    422                 257                 ND   \n",
       "4                    424                 257                 ND   \n",
       "..                   ...                 ...                ...   \n",
       "91                   426                 257                 ND   \n",
       "92                   429                 257                 ND   \n",
       "93                   432                 257                 ND   \n",
       "94                   431                 257                 ND   \n",
       "95                   427                 257                 ND   \n",
       "\n",
       "    destockage_batterie  \n",
       "0                    ND  \n",
       "1                    ND  \n",
       "2                    ND  \n",
       "3                    ND  \n",
       "4                    ND  \n",
       "..                  ...  \n",
       "91                   ND  \n",
       "92                   ND  \n",
       "93                   ND  \n",
       "94                   ND  \n",
       "95                   ND  \n",
       "\n",
       "[96 rows x 41 columns]"
      ]
     },
     "execution_count": 69,
     "metadata": {},
     "output_type": "execute_result"
    }
   ],
   "source": [
    "def transform_json_to_df(file_name:str):\n",
    "    \"\"\"Transform a Json File to a pandas DataFrame\"\"\"\n",
    "    with open(file_name) as f:\n",
    "        data = json.load(f)\n",
    "    return pd.DataFrame(data)\n",
    "    \n",
    "df = transform_json_to_df('combined_data.json')\n",
    "df"
   ]
  },
  {
   "cell_type": "code",
   "execution_count": 71,
   "metadata": {},
   "outputs": [
    {
     "data": {
      "application/vnd.plotly.v1+json": {
       "config": {
        "plotlyServerURL": "https://plot.ly"
       },
       "data": [
        {
         "hovertemplate": "heure=%{x}<br>consommation=%{y}<extra></extra>",
         "legendgroup": "",
         "line": {
          "color": "#636efa",
          "dash": "solid"
         },
         "marker": {
          "symbol": "circle"
         },
         "mode": "lines",
         "name": "",
         "orientation": "v",
         "showlegend": false,
         "type": "scatter",
         "x": [
          "01:00",
          "01:15",
          "03:00",
          "04:00",
          "08:30",
          "09:15",
          "10:45",
          "11:15",
          "11:45",
          "12:00",
          "14:00",
          "14:45",
          "17:30",
          "18:15",
          "19:00",
          "19:45",
          "20:00",
          "21:30",
          "00:15",
          "00:45",
          "02:45",
          "05:30",
          "07:15",
          "07:45",
          "08:00",
          "09:30",
          "11:00",
          "12:30",
          "12:45",
          "13:00",
          "13:45",
          "15:00",
          "15:45",
          "17:15",
          "17:45",
          "19:30",
          "22:45",
          "23:30",
          "00:30",
          "01:45",
          "02:00",
          "02:30",
          "03:45",
          "04:30",
          "06:30",
          "06:45",
          "07:00",
          "10:00",
          "15:15",
          "16:30",
          "16:45",
          "19:15",
          "20:30",
          "21:00",
          "01:30",
          "03:15",
          "03:30",
          "04:15",
          "06:00",
          "06:15",
          "07:30",
          "08:45",
          "09:00",
          "09:45",
          "11:30",
          "12:15",
          "15:30",
          "16:00",
          "18:30",
          "18:45",
          "20:15",
          "21:15",
          "21:45",
          "22:00",
          "22:15",
          "23:45",
          "00:00",
          "02:15",
          "04:45",
          "05:00",
          "05:15",
          "05:45",
          "08:15",
          "10:15",
          "10:30",
          "13:15",
          "13:30",
          "14:15",
          "14:30",
          "16:15",
          "17:00",
          "18:00",
          "20:45",
          "22:30",
          "23:00",
          "23:15"
         ],
         "xaxis": "x",
         "y": [
          45197,
          45675,
          42697,
          39975,
          39263,
          38773,
          41370,
          42243,
          43306,
          44001,
          43325,
          43203,
          44504,
          46505,
          47677,
          47582,
          47252,
          44636,
          46269,
          44479,
          43544,
          38166,
          38835,
          38856,
          39238,
          39331,
          41823,
          44275,
          44746,
          44553,
          43143,
          43122,
          42263,
          43253,
          45239,
          47859,
          45908,
          44802,
          45159,
          45512,
          45261,
          44384,
          40733,
          39058,
          38384,
          38364,
          38424,
          40059,
          43096,
          41874,
          41564,
          47957,
          46219,
          45750,
          45308,
          42083,
          41394,
          39527,
          37942,
          38452,
          38802,
          39293,
          39557,
          39784,
          42684,
          44387,
          42554,
          42150,
          46877,
          47415,
          46856,
          45490,
          44272,
          43948,
          43934,
          45231,
          45816,
          45497,
          38482,
          38316,
          38371,
          38031,
          39196,
          40536,
          40889,
          44424,
          43647,
          43423,
          43015,
          41774,
          42287,
          46315,
          45950,
          44463,
          45451,
          45315
         ],
         "yaxis": "y"
        }
       ],
       "layout": {
        "legend": {
         "tracegroupgap": 0
        },
        "template": {
         "data": {
          "bar": [
           {
            "error_x": {
             "color": "#2a3f5f"
            },
            "error_y": {
             "color": "#2a3f5f"
            },
            "marker": {
             "line": {
              "color": "#E5ECF6",
              "width": 0.5
             },
             "pattern": {
              "fillmode": "overlay",
              "size": 10,
              "solidity": 0.2
             }
            },
            "type": "bar"
           }
          ],
          "barpolar": [
           {
            "marker": {
             "line": {
              "color": "#E5ECF6",
              "width": 0.5
             },
             "pattern": {
              "fillmode": "overlay",
              "size": 10,
              "solidity": 0.2
             }
            },
            "type": "barpolar"
           }
          ],
          "carpet": [
           {
            "aaxis": {
             "endlinecolor": "#2a3f5f",
             "gridcolor": "white",
             "linecolor": "white",
             "minorgridcolor": "white",
             "startlinecolor": "#2a3f5f"
            },
            "baxis": {
             "endlinecolor": "#2a3f5f",
             "gridcolor": "white",
             "linecolor": "white",
             "minorgridcolor": "white",
             "startlinecolor": "#2a3f5f"
            },
            "type": "carpet"
           }
          ],
          "choropleth": [
           {
            "colorbar": {
             "outlinewidth": 0,
             "ticks": ""
            },
            "type": "choropleth"
           }
          ],
          "contour": [
           {
            "colorbar": {
             "outlinewidth": 0,
             "ticks": ""
            },
            "colorscale": [
             [
              0,
              "#0d0887"
             ],
             [
              0.1111111111111111,
              "#46039f"
             ],
             [
              0.2222222222222222,
              "#7201a8"
             ],
             [
              0.3333333333333333,
              "#9c179e"
             ],
             [
              0.4444444444444444,
              "#bd3786"
             ],
             [
              0.5555555555555556,
              "#d8576b"
             ],
             [
              0.6666666666666666,
              "#ed7953"
             ],
             [
              0.7777777777777778,
              "#fb9f3a"
             ],
             [
              0.8888888888888888,
              "#fdca26"
             ],
             [
              1,
              "#f0f921"
             ]
            ],
            "type": "contour"
           }
          ],
          "contourcarpet": [
           {
            "colorbar": {
             "outlinewidth": 0,
             "ticks": ""
            },
            "type": "contourcarpet"
           }
          ],
          "heatmap": [
           {
            "colorbar": {
             "outlinewidth": 0,
             "ticks": ""
            },
            "colorscale": [
             [
              0,
              "#0d0887"
             ],
             [
              0.1111111111111111,
              "#46039f"
             ],
             [
              0.2222222222222222,
              "#7201a8"
             ],
             [
              0.3333333333333333,
              "#9c179e"
             ],
             [
              0.4444444444444444,
              "#bd3786"
             ],
             [
              0.5555555555555556,
              "#d8576b"
             ],
             [
              0.6666666666666666,
              "#ed7953"
             ],
             [
              0.7777777777777778,
              "#fb9f3a"
             ],
             [
              0.8888888888888888,
              "#fdca26"
             ],
             [
              1,
              "#f0f921"
             ]
            ],
            "type": "heatmap"
           }
          ],
          "heatmapgl": [
           {
            "colorbar": {
             "outlinewidth": 0,
             "ticks": ""
            },
            "colorscale": [
             [
              0,
              "#0d0887"
             ],
             [
              0.1111111111111111,
              "#46039f"
             ],
             [
              0.2222222222222222,
              "#7201a8"
             ],
             [
              0.3333333333333333,
              "#9c179e"
             ],
             [
              0.4444444444444444,
              "#bd3786"
             ],
             [
              0.5555555555555556,
              "#d8576b"
             ],
             [
              0.6666666666666666,
              "#ed7953"
             ],
             [
              0.7777777777777778,
              "#fb9f3a"
             ],
             [
              0.8888888888888888,
              "#fdca26"
             ],
             [
              1,
              "#f0f921"
             ]
            ],
            "type": "heatmapgl"
           }
          ],
          "histogram": [
           {
            "marker": {
             "pattern": {
              "fillmode": "overlay",
              "size": 10,
              "solidity": 0.2
             }
            },
            "type": "histogram"
           }
          ],
          "histogram2d": [
           {
            "colorbar": {
             "outlinewidth": 0,
             "ticks": ""
            },
            "colorscale": [
             [
              0,
              "#0d0887"
             ],
             [
              0.1111111111111111,
              "#46039f"
             ],
             [
              0.2222222222222222,
              "#7201a8"
             ],
             [
              0.3333333333333333,
              "#9c179e"
             ],
             [
              0.4444444444444444,
              "#bd3786"
             ],
             [
              0.5555555555555556,
              "#d8576b"
             ],
             [
              0.6666666666666666,
              "#ed7953"
             ],
             [
              0.7777777777777778,
              "#fb9f3a"
             ],
             [
              0.8888888888888888,
              "#fdca26"
             ],
             [
              1,
              "#f0f921"
             ]
            ],
            "type": "histogram2d"
           }
          ],
          "histogram2dcontour": [
           {
            "colorbar": {
             "outlinewidth": 0,
             "ticks": ""
            },
            "colorscale": [
             [
              0,
              "#0d0887"
             ],
             [
              0.1111111111111111,
              "#46039f"
             ],
             [
              0.2222222222222222,
              "#7201a8"
             ],
             [
              0.3333333333333333,
              "#9c179e"
             ],
             [
              0.4444444444444444,
              "#bd3786"
             ],
             [
              0.5555555555555556,
              "#d8576b"
             ],
             [
              0.6666666666666666,
              "#ed7953"
             ],
             [
              0.7777777777777778,
              "#fb9f3a"
             ],
             [
              0.8888888888888888,
              "#fdca26"
             ],
             [
              1,
              "#f0f921"
             ]
            ],
            "type": "histogram2dcontour"
           }
          ],
          "mesh3d": [
           {
            "colorbar": {
             "outlinewidth": 0,
             "ticks": ""
            },
            "type": "mesh3d"
           }
          ],
          "parcoords": [
           {
            "line": {
             "colorbar": {
              "outlinewidth": 0,
              "ticks": ""
             }
            },
            "type": "parcoords"
           }
          ],
          "pie": [
           {
            "automargin": true,
            "type": "pie"
           }
          ],
          "scatter": [
           {
            "fillpattern": {
             "fillmode": "overlay",
             "size": 10,
             "solidity": 0.2
            },
            "type": "scatter"
           }
          ],
          "scatter3d": [
           {
            "line": {
             "colorbar": {
              "outlinewidth": 0,
              "ticks": ""
             }
            },
            "marker": {
             "colorbar": {
              "outlinewidth": 0,
              "ticks": ""
             }
            },
            "type": "scatter3d"
           }
          ],
          "scattercarpet": [
           {
            "marker": {
             "colorbar": {
              "outlinewidth": 0,
              "ticks": ""
             }
            },
            "type": "scattercarpet"
           }
          ],
          "scattergeo": [
           {
            "marker": {
             "colorbar": {
              "outlinewidth": 0,
              "ticks": ""
             }
            },
            "type": "scattergeo"
           }
          ],
          "scattergl": [
           {
            "marker": {
             "colorbar": {
              "outlinewidth": 0,
              "ticks": ""
             }
            },
            "type": "scattergl"
           }
          ],
          "scattermapbox": [
           {
            "marker": {
             "colorbar": {
              "outlinewidth": 0,
              "ticks": ""
             }
            },
            "type": "scattermapbox"
           }
          ],
          "scatterpolar": [
           {
            "marker": {
             "colorbar": {
              "outlinewidth": 0,
              "ticks": ""
             }
            },
            "type": "scatterpolar"
           }
          ],
          "scatterpolargl": [
           {
            "marker": {
             "colorbar": {
              "outlinewidth": 0,
              "ticks": ""
             }
            },
            "type": "scatterpolargl"
           }
          ],
          "scatterternary": [
           {
            "marker": {
             "colorbar": {
              "outlinewidth": 0,
              "ticks": ""
             }
            },
            "type": "scatterternary"
           }
          ],
          "surface": [
           {
            "colorbar": {
             "outlinewidth": 0,
             "ticks": ""
            },
            "colorscale": [
             [
              0,
              "#0d0887"
             ],
             [
              0.1111111111111111,
              "#46039f"
             ],
             [
              0.2222222222222222,
              "#7201a8"
             ],
             [
              0.3333333333333333,
              "#9c179e"
             ],
             [
              0.4444444444444444,
              "#bd3786"
             ],
             [
              0.5555555555555556,
              "#d8576b"
             ],
             [
              0.6666666666666666,
              "#ed7953"
             ],
             [
              0.7777777777777778,
              "#fb9f3a"
             ],
             [
              0.8888888888888888,
              "#fdca26"
             ],
             [
              1,
              "#f0f921"
             ]
            ],
            "type": "surface"
           }
          ],
          "table": [
           {
            "cells": {
             "fill": {
              "color": "#EBF0F8"
             },
             "line": {
              "color": "white"
             }
            },
            "header": {
             "fill": {
              "color": "#C8D4E3"
             },
             "line": {
              "color": "white"
             }
            },
            "type": "table"
           }
          ]
         },
         "layout": {
          "annotationdefaults": {
           "arrowcolor": "#2a3f5f",
           "arrowhead": 0,
           "arrowwidth": 1
          },
          "autotypenumbers": "strict",
          "coloraxis": {
           "colorbar": {
            "outlinewidth": 0,
            "ticks": ""
           }
          },
          "colorscale": {
           "diverging": [
            [
             0,
             "#8e0152"
            ],
            [
             0.1,
             "#c51b7d"
            ],
            [
             0.2,
             "#de77ae"
            ],
            [
             0.3,
             "#f1b6da"
            ],
            [
             0.4,
             "#fde0ef"
            ],
            [
             0.5,
             "#f7f7f7"
            ],
            [
             0.6,
             "#e6f5d0"
            ],
            [
             0.7,
             "#b8e186"
            ],
            [
             0.8,
             "#7fbc41"
            ],
            [
             0.9,
             "#4d9221"
            ],
            [
             1,
             "#276419"
            ]
           ],
           "sequential": [
            [
             0,
             "#0d0887"
            ],
            [
             0.1111111111111111,
             "#46039f"
            ],
            [
             0.2222222222222222,
             "#7201a8"
            ],
            [
             0.3333333333333333,
             "#9c179e"
            ],
            [
             0.4444444444444444,
             "#bd3786"
            ],
            [
             0.5555555555555556,
             "#d8576b"
            ],
            [
             0.6666666666666666,
             "#ed7953"
            ],
            [
             0.7777777777777778,
             "#fb9f3a"
            ],
            [
             0.8888888888888888,
             "#fdca26"
            ],
            [
             1,
             "#f0f921"
            ]
           ],
           "sequentialminus": [
            [
             0,
             "#0d0887"
            ],
            [
             0.1111111111111111,
             "#46039f"
            ],
            [
             0.2222222222222222,
             "#7201a8"
            ],
            [
             0.3333333333333333,
             "#9c179e"
            ],
            [
             0.4444444444444444,
             "#bd3786"
            ],
            [
             0.5555555555555556,
             "#d8576b"
            ],
            [
             0.6666666666666666,
             "#ed7953"
            ],
            [
             0.7777777777777778,
             "#fb9f3a"
            ],
            [
             0.8888888888888888,
             "#fdca26"
            ],
            [
             1,
             "#f0f921"
            ]
           ]
          },
          "colorway": [
           "#636efa",
           "#EF553B",
           "#00cc96",
           "#ab63fa",
           "#FFA15A",
           "#19d3f3",
           "#FF6692",
           "#B6E880",
           "#FF97FF",
           "#FECB52"
          ],
          "font": {
           "color": "#2a3f5f"
          },
          "geo": {
           "bgcolor": "white",
           "lakecolor": "white",
           "landcolor": "#E5ECF6",
           "showlakes": true,
           "showland": true,
           "subunitcolor": "white"
          },
          "hoverlabel": {
           "align": "left"
          },
          "hovermode": "closest",
          "mapbox": {
           "style": "light"
          },
          "paper_bgcolor": "white",
          "plot_bgcolor": "#E5ECF6",
          "polar": {
           "angularaxis": {
            "gridcolor": "white",
            "linecolor": "white",
            "ticks": ""
           },
           "bgcolor": "#E5ECF6",
           "radialaxis": {
            "gridcolor": "white",
            "linecolor": "white",
            "ticks": ""
           }
          },
          "scene": {
           "xaxis": {
            "backgroundcolor": "#E5ECF6",
            "gridcolor": "white",
            "gridwidth": 2,
            "linecolor": "white",
            "showbackground": true,
            "ticks": "",
            "zerolinecolor": "white"
           },
           "yaxis": {
            "backgroundcolor": "#E5ECF6",
            "gridcolor": "white",
            "gridwidth": 2,
            "linecolor": "white",
            "showbackground": true,
            "ticks": "",
            "zerolinecolor": "white"
           },
           "zaxis": {
            "backgroundcolor": "#E5ECF6",
            "gridcolor": "white",
            "gridwidth": 2,
            "linecolor": "white",
            "showbackground": true,
            "ticks": "",
            "zerolinecolor": "white"
           }
          },
          "shapedefaults": {
           "line": {
            "color": "#2a3f5f"
           }
          },
          "ternary": {
           "aaxis": {
            "gridcolor": "white",
            "linecolor": "white",
            "ticks": ""
           },
           "baxis": {
            "gridcolor": "white",
            "linecolor": "white",
            "ticks": ""
           },
           "bgcolor": "#E5ECF6",
           "caxis": {
            "gridcolor": "white",
            "linecolor": "white",
            "ticks": ""
           }
          },
          "title": {
           "x": 0.05
          },
          "xaxis": {
           "automargin": true,
           "gridcolor": "white",
           "linecolor": "white",
           "ticks": "",
           "title": {
            "standoff": 15
           },
           "zerolinecolor": "white",
           "zerolinewidth": 2
          },
          "yaxis": {
           "automargin": true,
           "gridcolor": "white",
           "linecolor": "white",
           "ticks": "",
           "title": {
            "standoff": 15
           },
           "zerolinecolor": "white",
           "zerolinewidth": 2
          }
         }
        },
        "title": {
         "text": "Consommation électrique en France le 1er janvier 2023"
        },
        "xaxis": {
         "anchor": "y",
         "domain": [
          0,
          1
         ],
         "title": {
          "text": "heure"
         }
        },
        "yaxis": {
         "anchor": "x",
         "domain": [
          0,
          1
         ],
         "title": {
          "text": "consommation"
         }
        }
       }
      }
     },
     "metadata": {},
     "output_type": "display_data"
    }
   ],
   "source": [
    "## Creation d'un premier graphique plotly\n",
    "\n",
    "fig = px.line(df, x=\"heure\", y=\"consommation\", title='Consommation électrique en France le 1er janvier 2023')\n",
    "\n",
    "fig.show()"
   ]
  }
 ],
 "metadata": {
  "kernelspec": {
   "display_name": "Python 3",
   "language": "python",
   "name": "python3"
  },
  "language_info": {
   "codemirror_mode": {
    "name": "ipython",
    "version": 3
   },
   "file_extension": ".py",
   "mimetype": "text/x-python",
   "name": "python",
   "nbconvert_exporter": "python",
   "pygments_lexer": "ipython3",
   "version": "3.11.3"
  }
 },
 "nbformat": 4,
 "nbformat_minor": 2
}

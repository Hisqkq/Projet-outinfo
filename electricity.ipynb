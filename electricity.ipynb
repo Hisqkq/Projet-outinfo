{
 "cells": [
  {
   "cell_type": "markdown",
   "metadata": {},
   "source": [
    "<div style=\"width:100%; text-align:center; margin: 40px 0;\">\n",
    "    <h1 style=\"color: #003366; font-size: 40px; font-weight:bold; text-shadow: 2px 2px 5px grey;\">\n",
    "        Énergie Électrique en France\n",
    "    </h1>\n",
    "    <hr style=\"width: 50%; height: 3px; background-color: #003366; border: none;\">\n",
    "    <p style=\"font-style:italic; font-size:18px; color: #555;\">\n",
    "        Une exploration approfondie de l'énergie électrique en France\n",
    "    </p>\n",
    "</div>\n"
   ]
  },
  {
   "cell_type": "code",
   "execution_count": null,
   "metadata": {},
   "outputs": [],
   "source": []
  }
 ],
 "metadata": {
  "kernelspec": {
   "display_name": "Python 3",
   "language": "python",
   "name": "python3"
  },
  "language_info": {
   "codemirror_mode": {
    "name": "ipython",
    "version": 3
   },
   "file_extension": ".py",
   "mimetype": "text/x-python",
   "name": "python",
   "nbconvert_exporter": "python",
   "pygments_lexer": "ipython3",
   "version": "3.10.2"
  }
 },
 "nbformat": 4,
 "nbformat_minor": 2
}
